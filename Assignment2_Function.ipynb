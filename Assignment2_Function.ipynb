{
  "nbformat": 4,
  "nbformat_minor": 0,
  "metadata": {
    "colab": {
      "provenance": []
    },
    "kernelspec": {
      "name": "python3",
      "display_name": "Python 3"
    },
    "language_info": {
      "name": "python"
    }
  },
  "cells": [
    {
      "cell_type": "markdown",
      "source": [
        "#**Theory Questions**"
      ],
      "metadata": {
        "id": "iG_f1JRkfThS"
      }
    },
    {
      "cell_type": "markdown",
      "source": [
        "# What is the difference between a function and a menthod in Python?"
      ],
      "metadata": {
        "id": "i5oY6cAxvWh8"
      }
    },
    {
      "cell_type": "markdown",
      "source": [
        "**Function**\n",
        "\n",
        "*   No class is needed to define a function.\n",
        "*   It doesn’t depend on any class, i.e., it is an identical entity.\n",
        "*   It operates on the data that you pass to them as an argument.\n",
        "*   It doesn’t require any self-argument.\n",
        "*   It is called by its name.\n",
        "\n",
        "**Method**\n",
        "\n",
        "*   Method definitions are always present inside a class.\n",
        "*   It depends on the class they belong to.\n",
        "*   It operates on the data of the object it associates with.\n",
        "*   It requires the self as its first argument.\n",
        "*   It is called on an object.\n",
        "\n"
      ],
      "metadata": {
        "id": "wwSUs8K0vbP_"
      }
    },
    {
      "cell_type": "markdown",
      "source": [
        " # Explain the concept of function arguments and parameters in Python."
      ],
      "metadata": {
        "id": "2j3hI-zwxMdq"
      }
    },
    {
      "cell_type": "markdown",
      "source": [
        "**Parameters:**\n",
        "\n",
        "A parameter is the variable defined within the parentheses during function definition. Simply they are written when we declare a function."
      ],
      "metadata": {
        "id": "uAMLaiwSxW-q"
      }
    },
    {
      "cell_type": "code",
      "source": [
        "# Here a,b are the parameters\n",
        "def sum(a,b):\n",
        "  print(a+b)\n",
        "\n",
        "sum(1,2)"
      ],
      "metadata": {
        "colab": {
          "base_uri": "https://localhost:8080/"
        },
        "id": "pz48uFWvxqTF",
        "outputId": "08ae4135-8bee-4c8a-9dae-ab0571311392"
      },
      "execution_count": null,
      "outputs": [
        {
          "output_type": "stream",
          "name": "stdout",
          "text": [
            "3\n"
          ]
        }
      ]
    },
    {
      "cell_type": "markdown",
      "source": [
        "**Arguments:**\n",
        "\n",
        "An argument is a value that is passed to a function when it is called. It might be a variable, value or object passed to a function or method as input. They are written when we are calling the function.\n",
        "\n",
        "**Types of arguments in python:**\n",
        "\n",
        "Python functions can contain two types of arguments:\n",
        "\n",
        "Positional Arguments\n",
        "Keyword Arguments"
      ],
      "metadata": {
        "id": "B9gGoLYdxsZs"
      }
    },
    {
      "cell_type": "code",
      "source": [
        "#Positional Arguments\n",
        "def person_name(first_name,second_name):\n",
        "  print(first_name+second_name)\n",
        "\n",
        "# First name is Ram placed first\n",
        "# Second name is Babu place second\n",
        "person_name(\"Ram\",\"Babu\")"
      ],
      "metadata": {
        "colab": {
          "base_uri": "https://localhost:8080/"
        },
        "id": "cGhg6sR0x7HF",
        "outputId": "da7484a2-a508-4bda-f009-23bc7810c618"
      },
      "execution_count": null,
      "outputs": [
        {
          "output_type": "stream",
          "name": "stdout",
          "text": [
            "RamBabu\n"
          ]
        }
      ]
    },
    {
      "cell_type": "code",
      "source": [
        "#Keyword Arguments:\n",
        "def person_name(first_name,second_name):\n",
        "  print(first_name+second_name)\n",
        "\n",
        "# Here we are explicitly assigning the values\n",
        "person_name(second_name=\"Babu\",first_name=\"Ram\")"
      ],
      "metadata": {
        "colab": {
          "base_uri": "https://localhost:8080/"
        },
        "id": "TU4qxSSbyA1p",
        "outputId": "573eb116-da9e-4345-d27a-2690f3078791"
      },
      "execution_count": null,
      "outputs": [
        {
          "output_type": "stream",
          "name": "stdout",
          "text": [
            "RamBabu\n"
          ]
        }
      ]
    },
    {
      "cell_type": "markdown",
      "source": [
        "# What are the different ways to define and call a function in Python?\n",
        "\n"
      ],
      "metadata": {
        "id": "Zr8b6crKyhmn"
      }
    },
    {
      "cell_type": "markdown",
      "source": [
        "Python Functions is a block of statements that return the specific task. The idea is to put some commonly or repeatedly done tasks together and make a function so that instead of writing the same code again and again for different inputs, we can do the function calls to reuse code contained in it over and over again."
      ],
      "metadata": {
        "id": "7JY9hAoA68bg"
      }
    },
    {
      "cell_type": "code",
      "source": [
        "# A simple Python function\n",
        "def fun():\n",
        "    print(\"Welcome to GFG\")\n",
        "\n",
        "\n",
        "# Driver code to call a function\n",
        "fun()"
      ],
      "metadata": {
        "colab": {
          "base_uri": "https://localhost:8080/"
        },
        "id": "ZkVIFGOK8VDC",
        "outputId": "e46ae351-e062-4db4-e775-5fabd03b31d0"
      },
      "execution_count": 4,
      "outputs": [
        {
          "output_type": "stream",
          "name": "stdout",
          "text": [
            "Welcome to GFG\n"
          ]
        }
      ]
    },
    {
      "cell_type": "code",
      "source": [
        "#Python Function with Parameters\n",
        "def add(num1: int, num2: int) -> int:\n",
        "    \"\"\"Add two numbers\"\"\"\n",
        "    num3 = num1 + num2\n",
        "\n",
        "    return num3\n",
        "\n",
        "# Driver code\n",
        "num1, num2 = 5, 15\n",
        "ans = add(num1, num2)\n",
        "print(f\"The addition of {num1} and {num2} results {ans}.\")"
      ],
      "metadata": {
        "colab": {
          "base_uri": "https://localhost:8080/"
        },
        "id": "WjGVCbQJ8Xwz",
        "outputId": "4b3af6f2-2824-477f-99f9-e36d0304000e"
      },
      "execution_count": 5,
      "outputs": [
        {
          "output_type": "stream",
          "name": "stdout",
          "text": [
            "The addition of 5 and 15 results 20.\n"
          ]
        }
      ]
    },
    {
      "cell_type": "code",
      "source": [
        "# Python Function Arguments\n",
        "def evenOdd(x):\n",
        "    if (x % 2 == 0):\n",
        "        print(\"even\")\n",
        "    else:\n",
        "        print(\"odd\")\n",
        "\n",
        "\n",
        "# Driver code to call the function\n",
        "evenOdd(2)\n",
        "evenOdd(3)"
      ],
      "metadata": {
        "colab": {
          "base_uri": "https://localhost:8080/"
        },
        "id": "cs7RIvCb8i6w",
        "outputId": "c22391c5-0405-4908-f254-5fc6cf4665a9"
      },
      "execution_count": 6,
      "outputs": [
        {
          "output_type": "stream",
          "name": "stdout",
          "text": [
            "even\n",
            "odd\n"
          ]
        }
      ]
    },
    {
      "cell_type": "markdown",
      "source": [
        "# What is the purpose of the return statement in python function?"
      ],
      "metadata": {
        "id": "D3sgeDX18t2X"
      }
    },
    {
      "cell_type": "markdown",
      "source": [
        "The return statement in Python is used to exit a function and send a value back to the caller. When a function is called, it may perform some operations, and once it finishes, the return statement specifies what value (if any) should be returned to the point where the function was called."
      ],
      "metadata": {
        "id": "K3wCVEsT8-O8"
      }
    },
    {
      "cell_type": "code",
      "source": [
        "def greet(name):\n",
        "    return f\"Hello, {name}!\"\n",
        "    print(\"This won't be executed.\")  # This line is never reached.\n",
        "\n",
        "print(greet(\"Alice\"))"
      ],
      "metadata": {
        "colab": {
          "base_uri": "https://localhost:8080/"
        },
        "id": "FyIR0kOw9TOW",
        "outputId": "dff137c6-4099-4c4c-c27b-a57825fbc20c"
      },
      "execution_count": 7,
      "outputs": [
        {
          "output_type": "stream",
          "name": "stdout",
          "text": [
            "Hello, Alice!\n"
          ]
        }
      ]
    },
    {
      "cell_type": "markdown",
      "source": [
        "# What are iterators in python and how do they differ from iterables?"
      ],
      "metadata": {
        "id": "AE2ZJ7dN9VKg"
      }
    },
    {
      "cell_type": "markdown",
      "source": [
        "**Iterators**\n",
        "\n",
        "An iterator is an object that represents a stream of data. It is an object that provides the ability to iterate (loop) over a sequence of elements, one at a time. An iterator is exhausted once it has iterated through all its elements, meaning it cannot be used again unless it is reinitialized.\n",
        "\n",
        "**Key Differences Between Iterables and Iterators**\n",
        "\n",
        "**Iterable:**\n",
        "\n",
        "*   An object that can return an iterator (supports __iter__() method).\n",
        "*   Uses __iter__() to return an iterator.\n",
        "*   Can be used in a for loop or passed to iter() to get an iterator.\n",
        "*   Holds the entire collection in memory (all elements at once).\n",
        "*   Can be iterated over multiple times.\n",
        "\n",
        "**Iterator**\n",
        "\n",
        "\n",
        "\n",
        "*   An object that performs the iteration (supports __next__() method).\n",
        "*   Uses __next__() to return the next item from the iterator.\n",
        "*   Used explicitly to fetch elements one by one using next().\n",
        "*   Produces elements one at a time and does not store the entire sequence in memory.\n",
        "*   Can only be iterated once; once exhausted, it needs to be reinitialized.\n",
        "\n",
        "\n",
        "\n",
        "\n"
      ],
      "metadata": {
        "id": "ZYZYaOmA9kEy"
      }
    },
    {
      "cell_type": "markdown",
      "source": [
        "# Explain the concept of generators in Python and how they are defined."
      ],
      "metadata": {
        "id": "LaoFqwW1-zne"
      }
    },
    {
      "cell_type": "markdown",
      "source": [
        "In Python generators are a simple and powerful way to create iterators. A generator is a function that produces items (or values) one at a time and on demand, rather than computing all items at once and storing them in memory. This makes generators highly memory-efficient for working with large datasets or infinite sequences.\n",
        "\n",
        "**Defining a generator in python:**\n",
        "\n",
        "```\n",
        "def generator_function():\n",
        "  yield value\n",
        "```\n",
        "\n",
        "\n"
      ],
      "metadata": {
        "id": "4stQtVCq_OVd"
      }
    },
    {
      "cell_type": "code",
      "source": [
        "def simple_generator():\n",
        "    yield 1\n",
        "    yield 2\n",
        "    yield 3\n",
        "\n",
        "gen = simple_generator()\n",
        "print(next(gen))  # Outputs: 1\n",
        "print(next(gen))  # Outputs: 2\n",
        "print(next(gen))  # Outputs: 3\n",
        "# print(next(gen))  # Raises StopIteration\n"
      ],
      "metadata": {
        "colab": {
          "base_uri": "https://localhost:8080/"
        },
        "id": "RsljkcbUACij",
        "outputId": "b79480dc-0ecd-43fc-bdff-c628d3842363"
      },
      "execution_count": 8,
      "outputs": [
        {
          "output_type": "stream",
          "name": "stdout",
          "text": [
            "1\n",
            "2\n",
            "3\n"
          ]
        }
      ]
    },
    {
      "cell_type": "markdown",
      "source": [
        "# What are the advantages of using generators over regular functions?"
      ],
      "metadata": {
        "id": "D6S6l_AXAGcF"
      }
    },
    {
      "cell_type": "markdown",
      "source": [
        "*Generators have several advantages over regular functions, including:*\n",
        "\n",
        "**Memory efficiency**\n",
        "\n",
        "Generators are more memory efficient than regular functions because they only evaluate the code that's needed. Generators generate values as they're needed, so they don't need to store all the values in memory at once. This is especially useful when working with large datasets.\n",
        "\n",
        "**Improved performance**\n",
        "\n",
        "Generators can improve performance by avoiding the need to generate and store all elements upfront. They can also be faster than regular loops.\n",
        "\n",
        "**Lazy loading**\n",
        "\n",
        "Generators can be used to lazy load data, which means that the data is not loaded until it's actually needed.\n",
        "\n",
        "**Infinite sequences**\n",
        "\n",
        "Generators make it easy to create infinite sequences by allowing pausing and resuming.\n",
        "**Composability**\n",
        "\n",
        "Generators can be easily composed to create new generators, enabling powerful data processing pipelines.\n",
        "\n",
        "**Readability**\n",
        "\n",
        "Generators can make your code easier to read and understand by breaking up the iteration process into smaller chunks."
      ],
      "metadata": {
        "id": "EjYGMfQQAsDr"
      }
    },
    {
      "cell_type": "markdown",
      "source": [
        "# What is a lambda function in Python and when is it typically used?"
      ],
      "metadata": {
        "id": "e5UFbhkkBJ3t"
      }
    },
    {
      "cell_type": "markdown",
      "source": [
        "A lambda function in Python is a small, anonymous function defined using the lambda keyword. Unlike regular functions defined with def, lambda functions are limited to a single expression and are often used for short, simple operations.\n",
        "\n",
        "***Syntax of Lambda function:***\n",
        "\n",
        "```\n",
        "lambda arguments: expression\n",
        "\n",
        "```\n",
        "**Common Use Cases:**\n",
        "\n",
        "**1. As Arguments to Higher-Order Functions**\n",
        "\n",
        "Lambda functions are frequently passed as arguments to functions like map(), filter(), and sorted().\n",
        "\n",
        "**2. In List Comprehensions or Generators**\n",
        "\n",
        "Lambda functions are used for quick inline transformations.\n",
        "\n"
      ],
      "metadata": {
        "id": "cX2p2ePABbZv"
      }
    },
    {
      "cell_type": "code",
      "source": [
        "#map(): Apply a function to all items in an iterable.\n",
        "numbers = [1, 2, 3, 4]\n",
        "squares = list(map(lambda x: x**2, numbers))\n",
        "print(squares)  # Outputs: [1, 4, 9, 16]\n"
      ],
      "metadata": {
        "colab": {
          "base_uri": "https://localhost:8080/"
        },
        "id": "Hx9RtEm5Cl7K",
        "outputId": "6d364d66-7245-44f1-c120-c89dcbc382e8"
      },
      "execution_count": 9,
      "outputs": [
        {
          "output_type": "stream",
          "name": "stdout",
          "text": [
            "[1, 4, 9, 16]\n"
          ]
        }
      ]
    },
    {
      "cell_type": "code",
      "source": [
        "#filter(): Filter items based on a condition.\n",
        "numbers = [1, 2, 3, 4, 5]\n",
        "evens = list(filter(lambda x: x % 2 == 0, numbers))\n",
        "print(evens)  # Outputs: [2, 4]\n",
        "\n"
      ],
      "metadata": {
        "colab": {
          "base_uri": "https://localhost:8080/"
        },
        "id": "QU9NKBz2CxI5",
        "outputId": "4e333a63-77bf-463e-9549-31904fc26634"
      },
      "execution_count": 10,
      "outputs": [
        {
          "output_type": "stream",
          "name": "stdout",
          "text": [
            "[2, 4]\n"
          ]
        }
      ]
    },
    {
      "cell_type": "code",
      "source": [
        "#sorted(): Custom sorting.\n",
        "\n",
        "pairs = [(1, 'one'), (3, 'three'), (2, 'two')]\n",
        "sorted_pairs = sorted(pairs, key=lambda x: x[0])\n",
        "print(sorted_pairs)  # Outputs: [(1, 'one'), (2, 'two'), (3, 'three')]\n"
      ],
      "metadata": {
        "colab": {
          "base_uri": "https://localhost:8080/"
        },
        "id": "PaRHI8IXC7TL",
        "outputId": "5fc02439-6a01-4271-8912-1664979d8545"
      },
      "execution_count": 11,
      "outputs": [
        {
          "output_type": "stream",
          "name": "stdout",
          "text": [
            "[(1, 'one'), (2, 'two'), (3, 'three')]\n"
          ]
        }
      ]
    },
    {
      "cell_type": "code",
      "source": [
        "# Doubling numbers using a lambda inside a comprehension\n",
        "doubled = [(lambda x: x * 2)(n) for n in range(5)]\n",
        "print(doubled)  # Outputs: [0, 2, 4, 6, 8]\n"
      ],
      "metadata": {
        "colab": {
          "base_uri": "https://localhost:8080/"
        },
        "id": "TQCUW5_EDEGZ",
        "outputId": "30d55edd-8c3e-4479-d962-e8d14ec600cd"
      },
      "execution_count": 12,
      "outputs": [
        {
          "output_type": "stream",
          "name": "stdout",
          "text": [
            "[0, 2, 4, 6, 8]\n"
          ]
        }
      ]
    },
    {
      "cell_type": "markdown",
      "source": [
        "# Explain the purpose and usage of the map() function in Python."
      ],
      "metadata": {
        "id": "R-jImUirDG-o"
      }
    },
    {
      "cell_type": "markdown",
      "source": [
        "The map() function in Python is used to apply a given function to each item of an iterable (like a list, tuple, or string) and returns a map object (an iterator) containing the results."
      ],
      "metadata": {
        "id": "FcBr5BEODWhZ"
      }
    },
    {
      "cell_type": "code",
      "source": [
        "#use case of map function\n",
        "def square(x):\n",
        "    return x ** 2\n",
        "\n",
        "numbers = [1, 2, 3, 4]\n",
        "squared = map(square, numbers)\n",
        "\n",
        "print(list(squared))\n"
      ],
      "metadata": {
        "colab": {
          "base_uri": "https://localhost:8080/"
        },
        "id": "Y-hZPXoQEOvR",
        "outputId": "973c1367-fca4-4e98-8d1c-74265482af93"
      },
      "execution_count": 13,
      "outputs": [
        {
          "output_type": "stream",
          "name": "stdout",
          "text": [
            "[1, 4, 9, 16]\n"
          ]
        }
      ]
    },
    {
      "cell_type": "markdown",
      "source": [
        "**Characteristics of map():**\n",
        "\n",
        "Lazy Evaluation: It computes values only when iterated, which makes it memory-efficient for large datasets.\n",
        "\n",
        "Immutability: map() does not modify the original iterable."
      ],
      "metadata": {
        "id": "Lo3fQ_tWEVAl"
      }
    },
    {
      "cell_type": "markdown",
      "source": [],
      "metadata": {
        "id": "FNNO55caEc23"
      }
    },
    {
      "cell_type": "markdown",
      "source": [
        "# What is the difference between map(), reduce(), and filter() functions in Python?"
      ],
      "metadata": {
        "id": "ZB59pEDHEj4u"
      }
    },
    {
      "cell_type": "markdown",
      "source": [
        "**map():**\n",
        "\n",
        "\n",
        "*   Purpose is to transforms elements of an iterable.\n",
        "*   Iterator of transformed elements.\n",
        "*   Any transformation (e.g., modified values).\n",
        "*   Single or multiple iterables.\n",
        "*   The key idea is Transformation.\n",
        "\n",
        "\n",
        "**filter():**\n",
        "\n",
        "*   Purpose is to selects elements based on a condition.\n",
        "*   Iterator of filtered elements.\n",
        "*   The key idea is Selection.\n",
        "*   Boolean (True/False) function.\n",
        "*   Single iterable.\n",
        "\n",
        "**reduce()**\n",
        "\n",
        "*   Aggregates elements into a single value.\n",
        "*   A single value.\n",
        "*   The key idea is Aggregation.\n",
        "*   Cumulative result combining elements.\n",
        "*   Single iterable."
      ],
      "metadata": {
        "id": "V1kpUd16E3-4"
      }
    },
    {
      "cell_type": "markdown",
      "source": [
        "# **Practical Questions**"
      ],
      "metadata": {
        "id": "nuWqEAOrGnzn"
      }
    },
    {
      "cell_type": "markdown",
      "source": [
        "# Write a Python function that takes a list of number as input and returns the sum of all even numbers in the list."
      ],
      "metadata": {
        "id": "JVS4e-ZvG1on"
      }
    },
    {
      "cell_type": "code",
      "source": [
        "N = int(input())\n",
        "List = []\n",
        "sum = 0\n",
        "while N > 0:\n",
        "    List.append(int(input()))\n",
        "    N -= 1\n",
        "\n",
        "\n",
        "for num in List:\n",
        "    if num % 2 == 0:\n",
        "        sum = num + sum\n",
        "        print (sum)\n",
        "    else:\n",
        "        print (0)"
      ],
      "metadata": {
        "colab": {
          "base_uri": "https://localhost:8080/"
        },
        "id": "cSsn_BOJcIbQ",
        "outputId": "f599a2a3-08d8-4541-e924-8c44150fe147"
      },
      "execution_count": 21,
      "outputs": [
        {
          "output_type": "stream",
          "name": "stdout",
          "text": [
            "4\n",
            "25\n",
            "10\n",
            "8\n",
            "16\n",
            "0\n",
            "10\n",
            "18\n",
            "34\n"
          ]
        }
      ]
    },
    {
      "cell_type": "markdown",
      "source": [
        "# Create a Python function that accepts a string and returns the reverse of that string."
      ],
      "metadata": {
        "id": "vJ0dtglWeAmk"
      }
    },
    {
      "cell_type": "code",
      "source": [
        "def reverse_string(s):\n",
        "\n",
        "    return s[::-1]\n",
        "\n",
        "input_string = \"Hello, Python!\"\n",
        "result = reverse_string(input_string)\n",
        "print(result)\n"
      ],
      "metadata": {
        "colab": {
          "base_uri": "https://localhost:8080/"
        },
        "id": "AtRbz3FVeSrS",
        "outputId": "f3ecb59b-7bdb-4a06-80ad-1e46a45c4263"
      },
      "execution_count": 23,
      "outputs": [
        {
          "output_type": "stream",
          "name": "stdout",
          "text": [
            "!nohtyP ,olleH\n"
          ]
        }
      ]
    },
    {
      "cell_type": "markdown",
      "source": [
        "# Write a Python function that checks if a given number is prime or not from 1 to 200."
      ],
      "metadata": {
        "id": "eIfQVLoketYw"
      }
    },
    {
      "cell_type": "code",
      "source": [
        "def is_prime(number):\n",
        "\n",
        "    if number < 2 or number > 200:\n",
        "        return False\n",
        "\n",
        "    for i in range(2, int(number ** 0.5) + 1):\n",
        "        if number % i == 0:\n",
        "            return False\n",
        "    return True\n",
        "\n",
        "print(is_prime(7))\n",
        "print(is_prime(10))\n",
        "print(is_prime(201))\n"
      ],
      "metadata": {
        "colab": {
          "base_uri": "https://localhost:8080/"
        },
        "id": "ZmkAXGIGfBu6",
        "outputId": "940ed083-0d1e-453a-f1fa-89872c8c52b3"
      },
      "execution_count": 24,
      "outputs": [
        {
          "output_type": "stream",
          "name": "stdout",
          "text": [
            "True\n",
            "False\n",
            "False\n"
          ]
        }
      ]
    }
  ]
}